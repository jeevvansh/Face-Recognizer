{
 "cells": [
  {
   "cell_type": "code",
   "execution_count": 1,
   "metadata": {},
   "outputs": [],
   "source": [
    "# PLEASE MAKE SURE TO CHANGE THE FILEPATHS FOR \"cascasde_path\", \"path_train\", AND \"path_test\" BEFORE RUNNING THIS PROGRAM!! They are in cell 4 in the ipynb file.\n",
    "#imports\n",
    "import os\n",
    "import cv2\n",
    "import numpy as np\n",
    "from sklearn import preprocessing\n"
   ]
  },
  {
   "cell_type": "code",
   "execution_count": 2,
   "metadata": {},
   "outputs": [],
   "source": [
    "#Class with some methods handle label encoding tasks\n",
    "class LabelEncoder(object):\n",
    "    #This method encodes words to numbers\n",
    "    def encode_labels(self, label_words):\n",
    "        self.le = preprocessing.LabelEncoder()\n",
    "        self.le.fit(label_words)\n",
    "        \n",
    "    #This one converts words to numbers using the labels\n",
    "    def word_to_num(self, label_word):\n",
    "        return int(self.le.transform([label_word])[0])\n",
    "    \n",
    "    # Converts from number back to original word\n",
    "    def num_to_word(self, label_num):\n",
    "        return self.le.inverse_transform([label_num])[0]"
   ]
  },
  {
   "cell_type": "code",
   "execution_count": 3,
   "metadata": {},
   "outputs": [],
   "source": [
    "# Extract images and labels from input path\n",
    "def get_images_and_labels(input_path):\n",
    "    label_words = []   \n",
    "    # Iterate through the input path and append files\n",
    "    for root, dirs, files in os.walk(input_path):\n",
    "        for filename in (x for x in files if x.endswith('.jpg')):\n",
    "            filepath = os.path.join(root, filename)\n",
    "            label_words.append(filepath.split('\\\\')[-2]) \n",
    "    # Initialize variables\n",
    "    images = []\n",
    "    le = LabelEncoder()\n",
    "    le.encode_labels(label_words)\n",
    "    labels = []\n",
    "    \n",
    "    # Parse the input directory\n",
    "    for root, dirs, files in os.walk(input_path):\n",
    "        for filename in (x for x in files if x.endswith('.jpg')):\n",
    "            filepath = os.path.join(root, filename)\n",
    "            \n",
    "            # Read the image in grayscale format\n",
    "            image = cv2.imread(filepath, 0) \n",
    "            \n",
    "            # Extract the label\n",
    "            name = filepath.split('\\\\')[-2]\n",
    "            \n",
    "            # Perform face detection\n",
    "            faces = faceCascade.detectMultiScale(image, 1.1, 2, minSize=(100,100))\n",
    "            \n",
    "            # Iterate through face rectangles\n",
    "            for (x, y, w, h) in faces:\n",
    "                images.append(image[y:y+h, x:x+w])\n",
    "                labels.append(le.word_to_num(name))\n",
    " \n",
    "    return images, labels, le\n"
   ]
  },
  {
   "cell_type": "code",
   "execution_count": 4,
   "metadata": {},
   "outputs": [
    {
     "name": "stdout",
     "output_type": "stream",
     "text": [
      "\n",
      "Training...\n"
     ]
    }
   ],
   "source": [
    "if __name__=='__main__':\n",
    "    #**CHANGE**\n",
    "    # MAKE \"cascade_path\" = THE LOCATION OF YOUR \"haarcascade_frontalface_alt.xml\" FILE located in \"cascade_files\"\n",
    "    cascade_path = 'D:\\\\Projects\\\\Facial Recognition\\\\cascade_files\\\\haarcascade_frontalface_alt.xml'\n",
    "    \n",
    "    #**CHANGE**\n",
    "    #MAKE \"path_train\" = THE LOCATION OF YOUR \"train\" FOLDER INSIDE \"faces_dataset\"\n",
    "    path_train = 'D:\\\\Projects\\\\Facial Recognition\\\\faces_dataset\\\\train'\n",
    "    \n",
    "    #**CHANGE**\n",
    "    #MAKE \"path_test\" = THE LOCATION OF YOUR \"test\" FOLDER INSIDE \"faces_dataset\"\n",
    "    path_test = 'D:\\\\Projects\\\\Facial Recognition\\\\faces_dataset\\\\test'\n",
    "    \n",
    "    # Load face cascade file\n",
    "    faceCascade = cv2.CascadeClassifier(cascade_path)\n",
    "    \n",
    "    # Initialize Local Binary Patterns Histogram face recognizer\n",
    "    recognizer = cv2.face.LBPHFaceRecognizer_create()\n",
    "    \n",
    "    # Extract images, labels, and label encoder from training dataset\n",
    "    images, labels, le = get_images_and_labels(path_train)\n",
    "    \n",
    "    # Train the face recognizer \n",
    "    print(\"\\nTraining...\")\n",
    "    recognizer.train(images, np.array(labels))\n",
    "    \n"
   ]
  },
  {
   "cell_type": "code",
   "execution_count": 5,
   "metadata": {},
   "outputs": [
    {
     "name": "stdout",
     "output_type": "stream",
     "text": [
      "\n",
      "Performing prediction on test images...\n"
     ]
    }
   ],
   "source": [
    "    # Test the recognizer on unknown images\n",
    "    print('\\nPerforming prediction on test images...')\n",
    "    stop_flag = False\n",
    "    for root, dirs, files in os.walk(path_test):\n",
    "        for filename in (x for x in files if x.endswith('.jpg')):\n",
    "            filepath = os.path.join(root, filename)\n",
    "            \n",
    "            # Read the image\n",
    "            predict_image = cv2.imread(filepath, 0)\n",
    "            \n",
    "            # Detect faces\n",
    "            faces = faceCascade.detectMultiScale(predict_image, 1.1, \n",
    "                    2, minSize=(100,100))\n",
    "            \n",
    "            # Iterate through face rectangles\n",
    "            for (x, y, w, h) in faces:\n",
    "                # Predict the output\n",
    "                predicted_index, conf = recognizer.predict(\n",
    "                        predict_image[y:y+h, x:x+w])\n",
    "                \n",
    "                # Convert to word label\n",
    "                predicted_person = le.num_to_word(predicted_index)\n",
    "                \n",
    "                # Overlay text on the output image and display it\n",
    "                cv2.putText(predict_image, 'Prediction: ' + predicted_person, \n",
    "                        (10,60), cv2.FONT_HERSHEY_SIMPLEX, 2, (255,255,255), 6)\n",
    "                predict_image = cv2.resize(predict_image, (0,0), fx=0.5, fy=0.5)\n",
    "                cv2.imshow(\"Recognizing face\", predict_image)\n",
    "                \n",
    "            c = cv2.waitKey(0)\n",
    "            if c == 27:\n",
    "                stop_flag = True\n",
    "                break\n",
    " \n",
    "        if stop_flag:\n",
    "            break"
   ]
  }
 ],
 "metadata": {
  "kernelspec": {
   "display_name": "Python 3",
   "language": "python",
   "name": "python3"
  },
  "language_info": {
   "codemirror_mode": {
    "name": "ipython",
    "version": 3
   },
   "file_extension": ".py",
   "mimetype": "text/x-python",
   "name": "python",
   "nbconvert_exporter": "python",
   "pygments_lexer": "ipython3",
   "version": "3.8.3"
  }
 },
 "nbformat": 4,
 "nbformat_minor": 4
}
